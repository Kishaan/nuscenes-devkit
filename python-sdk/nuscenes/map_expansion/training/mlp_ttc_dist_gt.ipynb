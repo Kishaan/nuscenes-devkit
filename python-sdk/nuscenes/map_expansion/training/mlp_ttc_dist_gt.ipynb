{
 "cells": [
  {
   "cell_type": "code",
   "execution_count": 1,
   "metadata": {},
   "outputs": [],
   "source": [
    "import tensorflow as tf\n",
    "from tensorflow.keras import backend as K\n",
    "\n",
    "import matplotlib as mpl\n",
    "import pickle\n",
    "import matplotlib.pyplot as plt\n",
    "import matplotlib\n",
    "import numpy as np\n",
    "import os\n",
    "\n",
    "# seeding for reproducible results\n",
    "from numpy.random import seed\n",
    "seed(1)\n",
    "tf.random.set_seed(1)\n",
    "\n",
    "matplotlib.rcParams['figure.figsize'] = (24, 18)\n",
    "matplotlib.rcParams['figure.facecolor'] = 'white'\n",
    "matplotlib.rcParams.update({'font.size': 20})\n",
    "\n",
    "TRAIN_SIZE = 9800\n",
    "TRAIN_TIME = 6\n",
    "BATCH_SIZE = 32\n",
    "BUFFER_SIZE = 500"
   ]
  },
  {
   "cell_type": "code",
   "execution_count": 2,
   "metadata": {},
   "outputs": [],
   "source": [
    "total_ped_matrix = np.load(\"../details/ego_ped_matrix.npy\")\n",
    "\n",
    "with open(\"../details/ped_dataset.pkl\", \"rb\") as f:\n",
    "    ped_dataset = pickle.load(f)\n",
    "    \n",
    "with open('../details/scene_info.pkl', 'rb') as handle:\n",
    "    scene_info = pickle.load(handle)"
   ]
  },
  {
   "cell_type": "code",
   "execution_count": null,
   "metadata": {},
   "outputs": [],
   "source": [
    "# Init NuScenes. Requires the dataset to be stored on disk.\n",
    "from nuscenes.nuscenes import NuScenes\n",
    "from nuscenes.map_expansion.map_api import NuScenesMap"
   ]
  },
  {
   "cell_type": "code",
   "execution_count": null,
   "metadata": {},
   "outputs": [],
   "source": [
    "nusc = NuScenes(version='v1.0-trainval', \\\n",
    "                dataroot='../../../../../data/', \\\n",
    "                verbose=False)"
   ]
  },
  {
   "cell_type": "code",
   "execution_count": null,
   "metadata": {},
   "outputs": [],
   "source": [
    "so_map = NuScenesMap(dataroot='../../../../../data/', \\\n",
    "                       map_name='singapore-onenorth')\n",
    "bs_map = NuScenesMap(dataroot='../../../../../data/', \\\n",
    "                       map_name='boston-seaport')\n",
    "sh_map = NuScenesMap(dataroot='../../../../../data/', \\\n",
    "                       map_name='singapore-hollandvillage')\n",
    "sq_map = NuScenesMap(dataroot='../../../../../data/', \\\n",
    "                       map_name='singapore-queenstown')\n",
    "\n",
    "# dict mapping map name to map file\n",
    "map_files = {'singapore-onenorth': so_map,\n",
    "             'boston-seaport': bs_map,\n",
    "             'singapore-hollandvillage': sh_map,\n",
    "             'singapore-queenstown': sq_map}"
   ]
  },
  {
   "cell_type": "code",
   "execution_count": null,
   "metadata": {},
   "outputs": [],
   "source": [
    "# # calculating the values for standardization for every feature\n",
    "# mean_values = np.mean(total_ped_matrix[:TRAIN_SIZE, :TRAIN_TIME, :], axis=(0,1))\n",
    "# std_values = np.std(total_ped_matrix[:TRAIN_SIZE, :TRAIN_TIME, :], axis=(0,1))\n",
    "\n",
    "# # standardization\n",
    "# total_ped_matrix = (total_ped_matrix - mean_values) / std_values"
   ]
  },
  {
   "cell_type": "code",
   "execution_count": 3,
   "metadata": {},
   "outputs": [],
   "source": [
    "# train_test split\n",
    "x_train = total_ped_matrix[:TRAIN_SIZE, :, :TRAIN_TIME, :]\n",
    "x_train = x_train.reshape(TRAIN_SIZE, 84)\n",
    "y_train1 = total_ped_matrix[:TRAIN_SIZE, 0, TRAIN_TIME:, :2]\n",
    "y_train2 = total_ped_matrix[:TRAIN_SIZE, 1, TRAIN_TIME:, :2]\n",
    "# shape is 9800,20,2\n",
    "y_train = np.append(y_train1, y_train2, axis=1)\n",
    "y_train= y_train.reshape(TRAIN_SIZE, 40)\n",
    "\n",
    "x_test = total_ped_matrix[TRAIN_SIZE:, :, :TRAIN_TIME, :]\n",
    "x_test = x_test.reshape(len(total_ped_matrix)-TRAIN_SIZE, 84)\n",
    "y_test1 = total_ped_matrix[TRAIN_SIZE:, 0, TRAIN_TIME:, :2]\n",
    "y_test2 = total_ped_matrix[TRAIN_SIZE:, 1, TRAIN_TIME:, :2]\n",
    "y_test = np.append(y_test1, y_test2, axis=1)\n",
    "y_test = y_test.reshape(len(total_ped_matrix)-TRAIN_SIZE, 40)"
   ]
  },
  {
   "cell_type": "code",
   "execution_count": 4,
   "metadata": {},
   "outputs": [],
   "source": [
    "train_data = tf.data.Dataset.from_tensor_slices((x_train, y_train))\n",
    "train_data = train_data.cache().shuffle(BUFFER_SIZE).batch(BATCH_SIZE).repeat()\n",
    "\n",
    "val_data = tf.data.Dataset.from_tensor_slices((x_test, y_test))\n",
    "val_data = val_data.batch(BATCH_SIZE).repeat()"
   ]
  },
  {
   "cell_type": "code",
   "execution_count": 5,
   "metadata": {},
   "outputs": [],
   "source": [
    "# defining the custom rmse loss function\n",
    "def ttc_loss(gt_path, ego_path):\n",
    "    tot_ttc = 0.0\n",
    "    tot_dist = 0.0\n",
    "    for i in range(gt_path.shape[0]):\n",
    "        del_time = 0.0\n",
    "        del_dist = np.inf\n",
    "        for j in range(gt_path.shape[1]):\n",
    "            for k in range(ego_path.shape[1]):\n",
    "                gt_pos = gt_path[i,j,:]\n",
    "                ego_pos = ego_path[i,k,:]\n",
    "                \n",
    "                dist = np.sqrt(np.sum((gt_pos - ego_pos)**2))\n",
    "                if dist < del_dist:\n",
    "                    del_dist = dist\n",
    "                    del_time = abs(j-k)\n",
    "                    \n",
    "        tot_ttc += del_time\n",
    "        tot_dist += del_dist\n",
    "    \n",
    "    tot_ttc = tot_ttc/float(len(gt_path))\n",
    "    tot_dist = tot_dist/float(len(gt_path))\n",
    "    return np.float32(tot_dist*tot_ttc) \n",
    "\n",
    "def model_loss(gt, pred):\n",
    "    '''\n",
    "    calculates custom rmse loss between every time point\n",
    "    '''\n",
    "    pred_path = tf.reshape(pred, [-1,10,2])\n",
    "    gt_path = gt[:,:20]\n",
    "    gt_path = tf.reshape(gt_path, [-1,10,2])\n",
    "    \n",
    "    rmse_error = K.mean(K.sqrt(K.sum(K.square(gt_path-pred_path), axis=1)))\n",
    "    \n",
    "    ego_path = gt[:,20:]\n",
    "    ego_path = tf.reshape(ego_path, [-1,10,2])\n",
    "    \n",
    "    ttc_error = tf.numpy_function(ttc_loss, [gt_path, ego_path], tf.float32)\n",
    "    return rmse_error + (2.0/(ttc_error+0.1))\n",
    "\n",
    "def euc_dist(gt, pred):\n",
    "    # custom metric to monitor rmse\n",
    "    gt = gt[:,:20]\n",
    "    gt_path = tf.reshape(gt, [-1,10,2])\n",
    "    pred_path = tf.reshape(pred, [-1,10,2])\n",
    "    rmse = K.mean(K.sqrt(K.sum(K.square(gt_path - pred_path), axis=1)))\n",
    "    return rmse"
   ]
  },
  {
   "cell_type": "code",
   "execution_count": 6,
   "metadata": {},
   "outputs": [],
   "source": [
    "# defining the model\n",
    "fc1_model = tf.keras.models.Sequential()\n",
    "fc1_model.add(tf.keras.layers.Input(shape=(x_train.shape[1],)))\n",
    "fc1_model.add(tf.keras.layers.Dense(64, activation='relu'))\n",
    "fc1_model.add(tf.keras.layers.Dense(48, activation='relu'))\n",
    "fc1_model.add(tf.keras.layers.Dense(20, activation='linear'))\n",
    "\n",
    "fc1_model.compile(optimizer=tf.keras.optimizers.RMSprop(clipvalue=1.0), \n",
    "                 loss=model_loss, \n",
    "                 metrics=[euc_dist])"
   ]
  },
  {
   "cell_type": "code",
   "execution_count": 7,
   "metadata": {},
   "outputs": [
    {
     "name": "stdout",
     "output_type": "stream",
     "text": [
      "Model: \"sequential\"\n",
      "_________________________________________________________________\n",
      "Layer (type)                 Output Shape              Param #   \n",
      "=================================================================\n",
      "dense (Dense)                (None, 64)                5440      \n",
      "_________________________________________________________________\n",
      "dense_1 (Dense)              (None, 48)                3120      \n",
      "_________________________________________________________________\n",
      "dense_2 (Dense)              (None, 20)                980       \n",
      "=================================================================\n",
      "Total params: 9,540\n",
      "Trainable params: 9,540\n",
      "Non-trainable params: 0\n",
      "_________________________________________________________________\n"
     ]
    }
   ],
   "source": [
    "fc1_model.summary()"
   ]
  },
  {
   "cell_type": "code",
   "execution_count": 8,
   "metadata": {
    "scrolled": false
   },
   "outputs": [
    {
     "name": "stdout",
     "output_type": "stream",
     "text": [
      "Train for 400 steps, validate for 70 steps\n",
      "Epoch 1/40\n",
      "400/400 [==============================] - 19s 48ms/step - loss: 3.2773 - euc_dist: 3.2559 - val_loss: 1.4458 - val_euc_dist: 1.4225\n",
      "Epoch 2/40\n",
      "400/400 [==============================] - 20s 50ms/step - loss: 1.2141 - euc_dist: 1.1935 - val_loss: 1.0714 - val_euc_dist: 1.0481\n",
      "Epoch 3/40\n",
      "400/400 [==============================] - 14s 36ms/step - loss: 1.0216 - euc_dist: 1.0006 - val_loss: 0.8509 - val_euc_dist: 0.8275\n",
      "Epoch 4/40\n",
      "400/400 [==============================] - 12s 29ms/step - loss: 0.9053 - euc_dist: 0.8844 - val_loss: 0.8233 - val_euc_dist: 0.8000\n",
      "Epoch 5/40\n",
      "400/400 [==============================] - 12s 30ms/step - loss: 0.8456 - euc_dist: 0.8248 - val_loss: 0.9760 - val_euc_dist: 0.9527\n",
      "Epoch 6/40\n",
      "400/400 [==============================] - 15s 37ms/step - loss: 0.7907 - euc_dist: 0.7696 - val_loss: 0.6598 - val_euc_dist: 0.6365\n",
      "Epoch 7/40\n",
      "400/400 [==============================] - 16s 39ms/step - loss: 0.7630 - euc_dist: 0.7423 - val_loss: 0.7148 - val_euc_dist: 0.6915\n",
      "Epoch 8/40\n",
      "400/400 [==============================] - 12s 30ms/step - loss: 0.7329 - euc_dist: 0.7119 - val_loss: 0.7191 - val_euc_dist: 0.6957\n",
      "Epoch 9/40\n",
      "400/400 [==============================] - 12s 30ms/step - loss: 0.7189 - euc_dist: 0.6980 - val_loss: 0.6293 - val_euc_dist: 0.6059\n",
      "Epoch 10/40\n",
      "400/400 [==============================] - 13s 33ms/step - loss: 0.7066 - euc_dist: 0.6857 - val_loss: 0.6605 - val_euc_dist: 0.6372\n",
      "Epoch 11/40\n",
      "400/400 [==============================] - 19s 47ms/step - loss: 0.6910 - euc_dist: 0.6698 - val_loss: 0.7349 - val_euc_dist: 0.7116\n",
      "Epoch 12/40\n",
      "400/400 [==============================] - 19s 47ms/step - loss: 0.6853 - euc_dist: 0.6647 - val_loss: 0.7239 - val_euc_dist: 0.7006\n",
      "Epoch 13/40\n",
      "400/400 [==============================] - 13s 32ms/step - loss: 0.6772 - euc_dist: 0.6563 - val_loss: 0.6222 - val_euc_dist: 0.5989\n",
      "Epoch 14/40\n",
      "400/400 [==============================] - 15s 37ms/step - loss: 0.6675 - euc_dist: 0.6462 - val_loss: 0.7182 - val_euc_dist: 0.6948\n",
      "Epoch 15/40\n",
      "400/400 [==============================] - 13s 32ms/step - loss: 0.6682 - euc_dist: 0.6476 - val_loss: 0.6213 - val_euc_dist: 0.5979\n",
      "Epoch 16/40\n",
      "400/400 [==============================] - 13s 33ms/step - loss: 0.6568 - euc_dist: 0.6360 - val_loss: 0.6150 - val_euc_dist: 0.5917\n",
      "Epoch 17/40\n",
      "400/400 [==============================] - 15s 38ms/step - loss: 0.6545 - euc_dist: 0.6336 - val_loss: 0.6098 - val_euc_dist: 0.5864\n",
      "Epoch 18/40\n",
      "400/400 [==============================] - 15s 36ms/step - loss: 0.6516 - euc_dist: 0.6306 - val_loss: 0.6498 - val_euc_dist: 0.6265\n",
      "Epoch 19/40\n",
      "400/400 [==============================] - 16s 41ms/step - loss: 0.6463 - euc_dist: 0.6254 - val_loss: 0.6224 - val_euc_dist: 0.5991\n",
      "Epoch 20/40\n",
      "400/400 [==============================] - 19s 49ms/step - loss: 0.6459 - euc_dist: 0.6250 - val_loss: 0.5933 - val_euc_dist: 0.5700\n",
      "Epoch 21/40\n",
      "400/400 [==============================] - 15s 37ms/step - loss: 0.6377 - euc_dist: 0.6165 - val_loss: 0.6339 - val_euc_dist: 0.6106\n",
      "Epoch 22/40\n",
      "400/400 [==============================] - 13s 33ms/step - loss: 0.6350 - euc_dist: 0.6144 - val_loss: 0.6468 - val_euc_dist: 0.6235\n",
      "Epoch 23/40\n",
      "400/400 [==============================] - 13s 33ms/step - loss: 0.6289 - euc_dist: 0.6080 - val_loss: 0.6314 - val_euc_dist: 0.6080\n",
      "Epoch 24/40\n",
      "400/400 [==============================] - 15s 38ms/step - loss: 0.6267 - euc_dist: 0.6054 - val_loss: 0.6016 - val_euc_dist: 0.5783\n",
      "Epoch 25/40\n",
      "400/400 [==============================] - 18s 45ms/step - loss: 0.6262 - euc_dist: 0.6055 - val_loss: 0.6307 - val_euc_dist: 0.6073\n",
      "Epoch 26/40\n",
      "400/400 [==============================] - 17s 43ms/step - loss: 0.6257 - euc_dist: 0.6048 - val_loss: 0.6012 - val_euc_dist: 0.5779\n",
      "Epoch 27/40\n",
      "400/400 [==============================] - 18s 46ms/step - loss: 0.6208 - euc_dist: 0.5999 - val_loss: 0.6104 - val_euc_dist: 0.5871\n",
      "Epoch 28/40\n",
      "400/400 [==============================] - 20s 49ms/step - loss: 0.6183 - euc_dist: 0.5974 - val_loss: 0.6136 - val_euc_dist: 0.5903\n",
      "Epoch 29/40\n",
      "400/400 [==============================] - 17s 43ms/step - loss: 0.6174 - euc_dist: 0.5963 - val_loss: 0.6703 - val_euc_dist: 0.6470\n",
      "Epoch 30/40\n",
      "400/400 [==============================] - 13s 33ms/step - loss: 0.6130 - euc_dist: 0.5921 - val_loss: 0.6247 - val_euc_dist: 0.6014\n",
      "Epoch 31/40\n",
      "400/400 [==============================] - 14s 35ms/step - loss: 0.6116 - euc_dist: 0.5906 - val_loss: 0.5812 - val_euc_dist: 0.5579\n",
      "Epoch 32/40\n",
      "400/400 [==============================] - 17s 42ms/step - loss: 0.6099 - euc_dist: 0.5892 - val_loss: 0.5708 - val_euc_dist: 0.5475\n",
      "Epoch 33/40\n",
      "400/400 [==============================] - 19s 47ms/step - loss: 0.6095 - euc_dist: 0.5886 - val_loss: 0.5921 - val_euc_dist: 0.5688\n",
      "Epoch 34/40\n",
      "400/400 [==============================] - 14s 36ms/step - loss: 0.6069 - euc_dist: 0.5857 - val_loss: 0.5829 - val_euc_dist: 0.5596\n",
      "Epoch 35/40\n",
      "400/400 [==============================] - 14s 35ms/step - loss: 0.6021 - euc_dist: 0.5815 - val_loss: 0.5745 - val_euc_dist: 0.5512\n",
      "Epoch 36/40\n",
      "400/400 [==============================] - 17s 43ms/step - loss: 0.6083 - euc_dist: 0.5874 - val_loss: 0.6148 - val_euc_dist: 0.5915\n",
      "Epoch 37/40\n",
      "400/400 [==============================] - 19s 47ms/step - loss: 0.5981 - euc_dist: 0.5769 - val_loss: 0.5997 - val_euc_dist: 0.5764\n",
      "Epoch 38/40\n",
      "400/400 [==============================] - 20s 50ms/step - loss: 0.5989 - euc_dist: 0.5780 - val_loss: 0.6367 - val_euc_dist: 0.6134\n",
      "Epoch 39/40\n",
      "400/400 [==============================] - 17s 43ms/step - loss: 0.5992 - euc_dist: 0.5782 - val_loss: 0.5829 - val_euc_dist: 0.5596\n",
      "Epoch 40/40\n",
      "400/400 [==============================] - 16s 40ms/step - loss: 0.5967 - euc_dist: 0.5759 - val_loss: 0.5911 - val_euc_dist: 0.5678\n"
     ]
    }
   ],
   "source": [
    "# checkpoint for saving the best model\n",
    "filepath=\"../checkpoints/mlp_ttc_dist_gt.hdf5\"\n",
    "checkpoint = tf.keras.callbacks.ModelCheckpoint(filepath, monitor='val_euc_dist', \n",
    "                                                verbose=1, save_best_only=True, \n",
    "                                                save_weights_only=False,\n",
    "                                                mode='min')\n",
    "callbacks_list = [checkpoint]\n",
    "\n",
    "train_history = fc1_model.fit(train_data, epochs=40,\n",
    "                             verbose=1, callbacks=None,\n",
    "                             validation_data=val_data,\n",
    "                             steps_per_epoch=400,\n",
    "                             validation_steps=70\n",
    "                             )"
   ]
  },
  {
   "cell_type": "code",
   "execution_count": 9,
   "metadata": {},
   "outputs": [],
   "source": [
    "def plot_train_history(history, title):\n",
    "    loss = history.history['loss']\n",
    "    val_loss = history.history['val_loss']\n",
    "    epochs = range(len(loss))\n",
    "    \n",
    "    plt.figure()\n",
    "    plt.plot(epochs, loss, 'b', label='Training loss')\n",
    "    plt.plot(epochs, val_loss, 'r', label='Validation loss')\n",
    "    plt.title(title)\n",
    "    plt.legend()\n",
    "    plt.show()"
   ]
  },
  {
   "cell_type": "code",
   "execution_count": 10,
   "metadata": {},
   "outputs": [
    {
     "data": {
      "image/png": "[encoded data removed]",
      "text/plain": [
       "<Figure size 1728x1296 with 1 Axes>"
      ]
     },
     "metadata": {},
     "output_type": "display_data"
    }
   ],
   "source": [
    "plot_train_history(train_history, \"MLP train and validation loss\")"
   ]
  },
  {
   "cell_type": "code",
   "execution_count": 11,
   "metadata": {},
   "outputs": [],
   "source": [
    "# undo normalization for plotting\n",
    "def move_from_origin(l, origin):\n",
    "    x0, y0 = origin\n",
    "    return [[x + x0, y + y0] for x, y in l]\n",
    "\n",
    "def rotate_from_y(l, angle):\n",
    "    theta = -angle\n",
    "    return [(x*np.cos(theta) - y*np.sin(theta), \n",
    "                    x*np.sin(theta) + y*np.cos(theta)) for x, y in l]\n",
    "\n",
    "# loss calculation for test prediction\n",
    "def rmse_error(l1, l2):\n",
    "    loss = 0.0\n",
    "    \n",
    "    if len(np.array(l1).shape) < 2:\n",
    "        return ((l1[0] - l2[0])**2 + (l1[1] - l2[1])**2)**0.5\n",
    "    for p1, p2 in zip(l1, l2):\n",
    "        loss += ((p1[0] - p2[0])**2 + (p1[1] - p2[1])**2)**0.5\n",
    "    return (loss / float(len(l1))) "
   ]
  },
  {
   "cell_type": "code",
   "execution_count": 12,
   "metadata": {
    "scrolled": false
   },
   "outputs": [
    {
     "name": "stdout",
     "output_type": "stream",
     "text": [
      "0.25618765147305556\n",
      "0.489877858947206\n"
     ]
    }
   ],
   "source": [
    "ade_values = []\n",
    "fde_values = []\n",
    "\n",
    "for test_idx in range(TRAIN_SIZE, len(ped_dataset)):\n",
    "    test_data = np.reshape(total_ped_matrix[test_idx,:,:6,:]\n",
    "                           , (1, 84))\n",
    "    predictions = fc1_model.predict(test_data).reshape(-1, 2)\n",
    "    predictions = move_from_origin(rotate_from_y(predictions, ped_dataset[test_idx][\"angle\"]),\n",
    "                                   ped_dataset[test_idx][\"origin\"])\n",
    "\n",
    "#     n_scene = ped_dataset[test_idx][\"scene_no\"]\n",
    "#     ego_poses = map_files[scene_info[str(n_scene)][\"map_name\"]].render_egoposes_on_fancy_map(\n",
    "#                     nusc, scene_tokens=[nusc.scene[n_scene]['token']], verbose=False,\n",
    "#                     render_egoposes=True, render_egoposes_range=False, \n",
    "#                     render_legend=False)\n",
    "\n",
    "#     plt.scatter(*zip(*np.array(ped_dataset[test_idx][\"translation\"])[:6,:2]), c='k', s=5, zorder=2)\n",
    "#     plt.scatter(*zip(*np.array(ped_dataset[test_idx][\"translation\"])[6:,:2]), c='b', s=5, zorder=3)\n",
    "#     plt.scatter(*zip(*predictions), c='r', s=5, zorder=4)\n",
    "#     plt.show()\n",
    "    \n",
    "    loss = rmse_error(predictions, np.array(ped_dataset[test_idx][\"translation\"])[6:,:2])\n",
    "        \n",
    "    final_loss = rmse_error(predictions[-1], \n",
    "                            np.array(ped_dataset[test_idx][\"translation\"])[-1,:2])\n",
    "\n",
    "    \n",
    "#     print(f\"Loss in m is {loss}\")\n",
    "#     print(f\"Loss of final position in m is {final_loss}\")\n",
    "    \n",
    "    ade_values.append(loss)\n",
    "    fde_values.append(final_loss)\n",
    "    \n",
    "print(np.mean(np.array(ade_values)))\n",
    "print(np.mean(np.array(fde_values)))"
   ]
  },
  {
   "cell_type": "code",
   "execution_count": 14,
   "metadata": {},
   "outputs": [
    {
     "name": "stdout",
     "output_type": "stream",
     "text": [
      "[NbConvertApp] Converting notebook LSTM_ttc_dist_gt.ipynb to script\n",
      "[NbConvertApp] Writing 8550 bytes to LSTM_ttc_dist_gt.py\n"
     ]
    }
   ],
   "source": [
    "!jupyter nbconvert --to script LSTM_ttc_dist_gt.ipynb"
   ]
  },
  {
   "cell_type": "code",
   "execution_count": null,
   "metadata": {},
   "outputs": [],
   "source": []
  }
 ],
 "metadata": {
  "kernelspec": {
   "display_name": "Python (tensorflow_cpu)",
   "language": "python",
   "name": "tensorflow_cpu"
  },
  "language_info": {
   "codemirror_mode": {
    "name": "ipython",
    "version": 3
   },
   "file_extension": ".py",
   "mimetype": "text/x-python",
   "name": "python",
   "nbconvert_exporter": "python",
   "pygments_lexer": "ipython3",
   "version": "3.7.6"
  }
 },
 "nbformat": 4,
 "nbformat_minor": 4
}
