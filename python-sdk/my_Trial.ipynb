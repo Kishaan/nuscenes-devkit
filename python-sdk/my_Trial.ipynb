{
 "cells": [
  {
   "cell_type": "code",
   "execution_count": 1,
   "metadata": {},
   "outputs": [],
   "source": [
    "%matplotlib inline\n",
    "from nuscenes.nuscenes import NuScenes\n",
    "import matplotlib.pyplot as plt\n",
    "import numpy as np"
   ]
  },
  {
   "cell_type": "code",
   "execution_count": 2,
   "metadata": {},
   "outputs": [
    {
     "name": "stdout",
     "output_type": "stream",
     "text": [
      "======\n",
      "Loading NuScenes tables for version v1.0-trainval...\n",
      "23 category,\n",
      "8 attribute,\n",
      "4 visibility,\n",
      "64386 instance,\n",
      "12 sensor,\n",
      "10200 calibrated_sensor,\n",
      "2631083 ego_pose,\n",
      "68 log,\n",
      "850 scene,\n",
      "34149 sample,\n",
      "2631083 sample_data,\n",
      "1166187 sample_annotation,\n",
      "4 map,\n",
      "Done loading in 64.2 seconds.\n",
      "======\n",
      "Reverse indexing ...\n",
      "Done reverse indexing in 7.1 seconds.\n",
      "======\n"
     ]
    }
   ],
   "source": [
    "# nusc = NuScenes(version='v1.0-mini', dataroot='/data/sets/nuscenes', verbose=True)\n",
    "# nusc = NuScenes(version='v1.0-mini', dataroot='../../../../../../../mnt/sda1/home/Dataset', verbose=True)\n",
    "nusc = NuScenes(version='v1.0-trainval', dataroot='../../data/', verbose=True)"
   ]
  },
  {
   "cell_type": "markdown",
   "metadata": {},
   "source": [
    "# Pedestrians"
   ]
  },
  {
   "cell_type": "code",
   "execution_count": 3,
   "metadata": {},
   "outputs": [],
   "source": [
    "# dict with person token as key and number of moving frames as value\n",
    "pedestrian_frames = dict()\n",
    "# dict with scene number and number of pedestrians found in the scene\n",
    "number_pedestrians = dict()"
   ]
  },
  {
   "cell_type": "code",
   "execution_count": 4,
   "metadata": {
    "scrolled": false
   },
   "outputs": [],
   "source": [
    "for n_scene in range(850):\n",
    "    #print(n_scnene)\n",
    "    # initialize the scene\n",
    "    my_scene = nusc.scene[n_scene]\n",
    "    # per scene person token database\n",
    "    seen_person_tokens = []\n",
    "\n",
    "    # first sample\n",
    "    first_sample_token = my_scene['first_sample_token']\n",
    "    sample = nusc.get('sample', first_sample_token)\n",
    "\n",
    "    while True:\n",
    "        for ann in sample['anns']:\n",
    "            if \"human.pedestrian\" in nusc.get('sample_annotation', ann)['category_name'] \\\n",
    "            and nusc.get('sample_annotation', ann)['instance_token'] not in \\\n",
    "            seen_person_tokens: \n",
    "                cur_person_token = nusc.get('sample_annotation', ann)['instance_token']\n",
    "                cur_person_instance = nusc.get(\"instance\", cur_person_token)\n",
    "                nbr_samples = cur_person_instance['nbr_annotations']\n",
    "                \n",
    "                #print(\"New person\")\n",
    "                #nusc.render_annotation(cur_person_instance['first_annotation_token'])        \n",
    "                #nusc.render_annotation(cur_person_instance['last_annotation_token'])\n",
    "                #plt.show()\n",
    "\n",
    "                first_token = cur_person_instance['first_annotation_token']\n",
    "                last_token = cur_person_instance['last_annotation_token']\n",
    "                current_token = first_token\n",
    "\n",
    "                moving_counter = 0\n",
    "                for i in range(nbr_samples):\n",
    "                    current_ann = nusc.get('sample_annotation', current_token)\n",
    "                    if current_ann[\"attribute_tokens\"]:\n",
    "                        current_attr = nusc.get('attribute', current_ann['attribute_tokens'][0])['name']\n",
    "                        # including pedestrians who are moving and standing\n",
    "                        if current_attr.split(\".\")[1] != \"sitting_lying_down\":\n",
    "                            moving_counter += 1\n",
    "                            \n",
    "                    current_token = current_ann[\"next\"]\n",
    "\n",
    "                seen_person_tokens.append(cur_person_token)\n",
    "                pedestrian_frames[cur_person_token] = moving_counter\n",
    "\n",
    "        if sample['next'] != '':\n",
    "            sample = nusc.get('sample', sample['next'])\n",
    "        else:\n",
    "            #last sample of the scene\n",
    "            break\n",
    "    \n",
    "    #print(\"Number of people in this scene: \", len(seen_person_tokens))\n",
    "    number_pedestrians[str(n_scene)] = len(seen_person_tokens)"
   ]
  },
  {
   "cell_type": "code",
   "execution_count": 5,
   "metadata": {},
   "outputs": [
    {
     "data": {
      "text/plain": [
       "11512"
      ]
     },
     "execution_count": 5,
     "metadata": {},
     "output_type": "execute_result"
    }
   ],
   "source": [
    "len(pedestrian_frames)"
   ]
  },
  {
   "cell_type": "code",
   "execution_count": 6,
   "metadata": {},
   "outputs": [],
   "source": [
    "with open(\"num_pedestrians1.txt\", \"w\") as f:\n",
    "    print(number_pedestrians, file=f, end=\"\\n\")"
   ]
  },
  {
   "cell_type": "code",
   "execution_count": 7,
   "metadata": {},
   "outputs": [],
   "source": [
    "with open(\"num_frames_each_pedestrian1.txt\", \"w\") as f:\n",
    "    for key, value in pedestrian_frames.items():\n",
    "        print(key, \":\", value, file=f, end=\"\\n\")"
   ]
  },
  {
   "cell_type": "code",
   "execution_count": 8,
   "metadata": {},
   "outputs": [],
   "source": [
    "non_zero_frames = {k:v for k,v in pedestrian_frames.items() if v > 0}"
   ]
  },
  {
   "cell_type": "code",
   "execution_count": 9,
   "metadata": {},
   "outputs": [
    {
     "name": "stdout",
     "output_type": "stream",
     "text": [
      "Number of people found for at least one frame  10434\n"
     ]
    }
   ],
   "source": [
    "print(\"Number of people found for at least one frame \", len(non_zero_frames))"
   ]
  },
  {
   "cell_type": "code",
   "execution_count": 10,
   "metadata": {},
   "outputs": [],
   "source": [
    "with open(\"nonzero_frames_each_pedestrian1.txt\", \"w\") as f:\n",
    "    for key, value in non_zero_frames.items():\n",
    "        print(key, \":\", value, file=f, end=\"\\n\")"
   ]
  },
  {
   "cell_type": "code",
   "execution_count": 12,
   "metadata": {},
   "outputs": [
    {
     "data": {
      "image/png": "[encoded data removed]",
      "text/plain": [
       "<Figure size 1152x864 with 1 Axes>"
      ]
     },
     "metadata": {
      "needs_background": "light"
     },
     "output_type": "display_data"
    }
   ],
   "source": [
    "plt.figure(figsize=(16,12))\n",
    "plt.hist(non_zero_frames.values(), bins=9, range=(1, 41), edgecolor='black', linewidth=1.2)\n",
    "plt.xlabel(\"Number of frames\")\n",
    "plt.ylabel(\"Number of trajectories\")\n",
    "plt.title(\"Histogram of number of frames for pedestrian trajectories\")\n",
    "plt.savefig(\"../../../../../Pictures/pedestrians_histogram.png\")\n",
    "plt.show()"
   ]
  },
  {
   "cell_type": "code",
   "execution_count": 11,
   "metadata": {},
   "outputs": [
    {
     "name": "stdout",
     "output_type": "stream",
     "text": [
      "number of people found for at least 10 frames 7532\n",
      "average number of frames for people found for at least 10 frames 24.885156664896442\n"
     ]
    }
   ],
   "source": [
    "# calculating the average number of frames for pedestrians who have at least more than 10 frames\n",
    "decent_no_of_frames = [i for i in non_zero_frames.values() if i > 10]\n",
    "print(\"number of people found for at least 10 frames\", len(decent_no_of_frames))\n",
    "print(\"average number of frames for people found for at least 10 frames\", np.mean(decent_no_of_frames))"
   ]
  },
  {
   "cell_type": "markdown",
   "metadata": {},
   "source": [
    "# Cyclists"
   ]
  },
  {
   "cell_type": "code",
   "execution_count": 19,
   "metadata": {},
   "outputs": [],
   "source": [
    "# dict with person token as key and number of moving frames as value\n",
    "cyclists_frames = dict()\n",
    "# dict with scene number and number of pedestrians found in the scene\n",
    "number_cyclists = dict()\n",
    "\n",
    "for n_scene in range(850):\n",
    "    # initialize the scene\n",
    "    my_scene = nusc.scene[n_scene]\n",
    "    # per scene person token database\n",
    "    seen_cyclists_tokens = []\n",
    "\n",
    "    # first sample\n",
    "    first_sample_token = my_scene['first_sample_token']\n",
    "    sample = nusc.get('sample', first_sample_token)\n",
    "\n",
    "    while True:\n",
    "        for ann in sample['anns']:\n",
    "            if \"vehicle.bicycle\" in nusc.get('sample_annotation', ann)['category_name'] and \\\n",
    "               nusc.get('sample_annotation', ann)['instance_token'] not in seen_cyclists_tokens:\n",
    "                cur_cyclist_token = nusc.get('sample_annotation', ann)['instance_token']\n",
    "                cur_cyclist_instance = nusc.get(\"instance\", cur_cyclist_token)\n",
    "                nbr_samples = cur_cyclist_instance['nbr_annotations']\n",
    "                \n",
    "                # print(nbr_samples)\n",
    "                # nusc.render_annotation(cur_person_instance['first_annotation_token'])        \n",
    "                # nusc.render_annotation(cur_person_instance['last_annotation_token'])\n",
    "                # plt.show()\n",
    "\n",
    "                first_token = cur_cyclist_instance['first_annotation_token']\n",
    "                last_token = cur_cyclist_instance['last_annotation_token']\n",
    "                current_token = first_token\n",
    "\n",
    "                moving_counter = 0\n",
    "                for i in range(nbr_samples):\n",
    "                    current_ann = nusc.get('sample_annotation', current_token)\n",
    "                    if current_ann[\"attribute_tokens\"]:\n",
    "                        current_attr = nusc.get('attribute', current_ann['attribute_tokens'][0])[\"name\"]\n",
    "                        if current_attr.split(\".\")[1] == \"with_rider\":\n",
    "                            moving_counter += 1\n",
    "\n",
    "\n",
    "                seen_cyclists_tokens.append(cur_cyclist_token)\n",
    "                cyclists_frames[cur_cyclist_token] = moving_counter\n",
    "\n",
    "        # print(len(seen_person_tokens))\n",
    "        # print(seen_person_tokens)\n",
    "\n",
    "        if sample['next'] != '':\n",
    "            sample = nusc.get('sample', sample['next'])\n",
    "        else:\n",
    "            #last sample of the scene\n",
    "            break\n",
    "    \n",
    "    #print(\"Number of people in this scene: \", len(seen_person_tokens))\n",
    "    number_cyclists[str(n_scene)] = len(seen_cyclists_tokens)"
   ]
  },
  {
   "cell_type": "code",
   "execution_count": 20,
   "metadata": {},
   "outputs": [
    {
     "name": "stdout",
     "output_type": "stream",
     "text": [
      "Number of bicycles found with rider 121\n"
     ]
    }
   ],
   "source": [
    "print(\"Number of bicycles found with rider\", len([i for i in cyclists_frames.values() if i > 0]))"
   ]
  },
  {
   "cell_type": "code",
   "execution_count": 21,
   "metadata": {},
   "outputs": [
    {
     "name": "stdout",
     "output_type": "stream",
     "text": [
      "Number of bicycles found with rider for at least 5 frames 112\n",
      "Average number of bicycles found with rider for at least 5 frames 24.571428571428573\n"
     ]
    }
   ],
   "source": [
    "print(\"Number of bicycles found with rider for at least 5 frames\", len([i for i in cyclists_frames.values() if i > 5]))\n",
    "print(\"Average number of bicycles found with rider for at least 5 frames\", np.mean([i for i in cyclists_frames.values() if i > 5]))"
   ]
  },
  {
   "cell_type": "code",
   "execution_count": 22,
   "metadata": {},
   "outputs": [
    {
     "data": {
      "image/png": "[encoded data removed]",
      "text/plain": [
       "<Figure size 1152x864 with 1 Axes>"
      ]
     },
     "metadata": {
      "needs_background": "light"
     },
     "output_type": "display_data"
    }
   ],
   "source": [
    "plt.figure(figsize=(16,12))\n",
    "plt.bar(list(range(len([i for i in cyclists_frames.values() if i > 0]))), [i for i in cyclists_frames.values() if i > 0])\n",
    "plt.show()"
   ]
  }
 ],
 "metadata": {
  "kernelspec": {
   "display_name": "Python (nu)",
   "language": "python",
   "name": "nu"
  },
  "language_info": {
   "codemirror_mode": {
    "name": "ipython",
    "version": 3
   },
   "file_extension": ".py",
   "mimetype": "text/x-python",
   "name": "python",
   "nbconvert_exporter": "python",
   "pygments_lexer": "ipython3",
   "version": "3.6.9"
  }
 },
 "nbformat": 4,
 "nbformat_minor": 2
}
