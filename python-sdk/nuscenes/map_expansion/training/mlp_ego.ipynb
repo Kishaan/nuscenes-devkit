{
 "cells": [
  {
   "cell_type": "code",
   "execution_count": 3,
   "metadata": {},
   "outputs": [],
   "source": [
    "import tensorflow as tf\n",
    "from tensorflow.keras import backend as K\n",
    "\n",
    "import matplotlib as mpl\n",
    "import pickle\n",
    "import matplotlib.pyplot as plt\n",
    "import matplotlib\n",
    "import numpy as np\n",
    "import os\n",
    "\n",
    "# seeding for reproducible results\n",
    "from numpy.random import seed\n",
    "seed(1)\n",
    "tf.random.set_seed(1)\n",
    "\n",
    "matplotlib.rcParams['figure.figsize'] = (24, 18)\n",
    "matplotlib.rcParams['figure.facecolor'] = 'white'\n",
    "matplotlib.rcParams.update({'font.size': 20})\n",
    "\n",
    "TRAIN_SIZE = 9800\n",
    "TRAIN_TIME = 6\n",
    "BATCH_SIZE = 32\n",
    "BUFFER_SIZE = 500"
   ]
  },
  {
   "cell_type": "code",
   "execution_count": 4,
   "metadata": {},
   "outputs": [],
   "source": [
    "total_ped_matrix = np.load(\"../details/ego_ped_matrix.npy\")\n",
    "\n",
    "with open(\"../details/ped_dataset.pkl\", \"rb\") as f:\n",
    "    ped_dataset = pickle.load(f)\n",
    "    \n",
    "with open('../details/scene_info.pkl', 'rb') as handle:\n",
    "    scene_info = pickle.load(handle)"
   ]
  },
  {
   "cell_type": "code",
   "execution_count": 3,
   "metadata": {},
   "outputs": [],
   "source": [
    "# Init NuScenes. Requires the dataset to be stored on disk.\n",
    "from nuscenes.nuscenes import NuScenes\n",
    "from nuscenes.map_expansion.map_api import NuScenesMap"
   ]
  },
  {
   "cell_type": "code",
   "execution_count": 5,
   "metadata": {},
   "outputs": [],
   "source": [
    "nusc = NuScenes(version='v1.0-trainval', \\\n",
    "                dataroot='../../../../../data/', \\\n",
    "                verbose=False)"
   ]
  },
  {
   "cell_type": "code",
   "execution_count": 6,
   "metadata": {},
   "outputs": [],
   "source": [
    "so_map = NuScenesMap(dataroot='../../../../../data/', \\\n",
    "                       map_name='singapore-onenorth')\n",
    "bs_map = NuScenesMap(dataroot='../../../../../data/', \\\n",
    "                       map_name='boston-seaport')\n",
    "sh_map = NuScenesMap(dataroot='../../../../../data/', \\\n",
    "                       map_name='singapore-hollandvillage')\n",
    "sq_map = NuScenesMap(dataroot='../../../../../data/', \\\n",
    "                       map_name='singapore-queenstown')\n",
    "\n",
    "# dict mapping map name to map file\n",
    "map_files = {'singapore-onenorth': so_map,\n",
    "             'boston-seaport': bs_map,\n",
    "             'singapore-hollandvillage': sh_map,\n",
    "             'singapore-queenstown': sq_map}"
   ]
  },
  {
   "cell_type": "code",
   "execution_count": 5,
   "metadata": {},
   "outputs": [],
   "source": [
    "# # calculating the values for standardization for every feature\n",
    "# mean_values = np.mean(total_ped_matrix[:TRAIN_SIZE, :TRAIN_TIME, :], axis=(0,1))\n",
    "# std_values = np.std(total_ped_matrix[:TRAIN_SIZE, :TRAIN_TIME, :], axis=(0,1))\n",
    "\n",
    "# # standardization\n",
    "# total_ped_matrix = (total_ped_matrix - mean_values) / std_values"
   ]
  },
  {
   "cell_type": "code",
   "execution_count": 5,
   "metadata": {},
   "outputs": [],
   "source": [
    "# train_test split\n",
    "x_train = total_ped_matrix[:TRAIN_SIZE, :, :TRAIN_TIME, :]\n",
    "x_train = x_train.reshape(TRAIN_SIZE, 84)\n",
    "y_train1 = total_ped_matrix[:TRAIN_SIZE, 0, TRAIN_TIME:, :2]\n",
    "y_train2 = total_ped_matrix[:TRAIN_SIZE, 1, TRAIN_TIME:, :2]\n",
    "# shape is 9800,20,2\n",
    "y_train = np.append(y_train1, y_train2, axis=1)\n",
    "y_train= y_train.reshape(TRAIN_SIZE, 40)\n",
    "\n",
    "x_test = total_ped_matrix[TRAIN_SIZE:, :, :TRAIN_TIME, :]\n",
    "x_test = x_test.reshape(len(total_ped_matrix)-TRAIN_SIZE, 84)\n",
    "y_test1 = total_ped_matrix[TRAIN_SIZE:, 0, TRAIN_TIME:, :2]\n",
    "y_test2 = total_ped_matrix[TRAIN_SIZE:, 1, TRAIN_TIME:, :2]\n",
    "y_test = np.append(y_test1, y_test2, axis=1)\n",
    "y_test = y_test.reshape(len(total_ped_matrix)-TRAIN_SIZE, 40)"
   ]
  },
  {
   "cell_type": "code",
   "execution_count": 6,
   "metadata": {},
   "outputs": [],
   "source": [
    "train_data = tf.data.Dataset.from_tensor_slices((x_train, y_train))\n",
    "train_data = train_data.cache().shuffle(BUFFER_SIZE).batch(BATCH_SIZE).repeat()\n",
    "\n",
    "val_data = tf.data.Dataset.from_tensor_slices((x_test, y_test))\n",
    "val_data = val_data.batch(BATCH_SIZE).repeat()"
   ]
  },
  {
   "cell_type": "code",
   "execution_count": 7,
   "metadata": {},
   "outputs": [],
   "source": [
    "# defining the custom rmse loss function\n",
    "def ttc_loss(pred_path, ego_path):\n",
    "    tot_loss = 0.0\n",
    "    for i in range(pred_path.shape[0]):\n",
    "        del_time = 0.0\n",
    "        del_dist = np.inf\n",
    "        for j in range(pred_path.shape[1]):\n",
    "            for k in range(ego_path.shape[1]):\n",
    "                pred_pos = pred_path[i,j,:]\n",
    "                ego_pos = ego_path[i,k,:]\n",
    "                \n",
    "                dist = np.sqrt(np.sum((pred_pos - ego_pos)**2))\n",
    "                if dist < del_dist:\n",
    "                    del_dist = dist\n",
    "                    del_time = abs(j-k)\n",
    "                    \n",
    "        tot_loss += del_time\n",
    "    return np.float32(tot_loss/float(len(pred_path)))  \n",
    "\n",
    "def model_loss(gt, pred):\n",
    "    '''\n",
    "    calculates custom rmse loss between every time point\n",
    "    '''\n",
    "    pred_path = tf.reshape(pred, [-1,10,2])\n",
    "    gt_path = gt[:,:20]\n",
    "    gt_path = tf.reshape(gt_path, [-1,10,2])\n",
    "    \n",
    "    rmse_error = K.mean(K.sqrt(K.sum(K.square(gt_path-pred_path), axis=1)))\n",
    "    \n",
    "    ego_path = gt[:,20:]\n",
    "    ego_path = tf.reshape(ego_path, [-1,10,2])\n",
    "    \n",
    "    ttc_error = tf.numpy_function(ttc_loss, [pred_path, ego_path], tf.float32)\n",
    "    return rmse_error\n",
    "\n",
    "def euc_dist(gt, pred):\n",
    "    # custom metric to monitor rmse\n",
    "    gt = gt[:,:20]\n",
    "    gt_path = tf.reshape(gt, [-1,10,2])\n",
    "    pred_path = tf.reshape(pred, [-1,10,2])\n",
    "    rmse = K.mean(K.sqrt(K.sum(K.square(gt_path - pred_path), axis=1)))\n",
    "    return rmse"
   ]
  },
  {
   "cell_type": "code",
   "execution_count": 8,
   "metadata": {},
   "outputs": [],
   "source": [
    "# defining the model\n",
    "fc_model = tf.keras.models.Sequential()\n",
    "fc_model.add(tf.keras.layers.Input(shape=(x_train.shape[1],)))\n",
    "fc_model.add(tf.keras.layers.Dense(64, activation='relu'))\n",
    "fc_model.add(tf.keras.layers.Dense(48, activation='relu'))\n",
    "fc_model.add(tf.keras.layers.Dense(20, activation='linear'))\n",
    "\n",
    "fc_model.compile(optimizer=tf.keras.optimizers.RMSprop(clipvalue=1.0), \n",
    "                 loss=model_loss, \n",
    "                 metrics=[euc_dist])"
   ]
  },
  {
   "cell_type": "code",
   "execution_count": 9,
   "metadata": {},
   "outputs": [
    {
     "name": "stdout",
     "output_type": "stream",
     "text": [
      "Model: \"sequential\"\n",
      "_________________________________________________________________\n",
      "Layer (type)                 Output Shape              Param #   \n",
      "=================================================================\n",
      "dense (Dense)                (None, 64)                5440      \n",
      "_________________________________________________________________\n",
      "dense_1 (Dense)              (None, 48)                3120      \n",
      "_________________________________________________________________\n",
      "dense_2 (Dense)              (None, 20)                980       \n",
      "=================================================================\n",
      "Total params: 9,540\n",
      "Trainable params: 9,540\n",
      "Non-trainable params: 0\n",
      "_________________________________________________________________\n"
     ]
    }
   ],
   "source": [
    "fc_model.summary()"
   ]
  },
  {
   "cell_type": "code",
   "execution_count": 10,
   "metadata": {
    "scrolled": false
   },
   "outputs": [
    {
     "name": "stdout",
     "output_type": "stream",
     "text": [
      "\n",
      "Epoch 00001: val_euc_dist improved from inf to 1.42251, saving model to ../checkpoints/mlp_ego.hdf5\n",
      "\n",
      "Epoch 00002: val_euc_dist improved from 1.42251 to 1.04807, saving model to ../checkpoints/mlp_ego.hdf5\n",
      "\n",
      "Epoch 00003: val_euc_dist improved from 1.04807 to 0.82755, saving model to ../checkpoints/mlp_ego.hdf5\n",
      "\n",
      "Epoch 00004: val_euc_dist improved from 0.82755 to 0.79999, saving model to ../checkpoints/mlp_ego.hdf5\n",
      "\n",
      "Epoch 00005: val_euc_dist did not improve from 0.79999\n",
      "\n",
      "Epoch 00006: val_euc_dist improved from 0.79999 to 0.63647, saving model to ../checkpoints/mlp_ego.hdf5\n",
      "\n",
      "Epoch 00007: val_euc_dist did not improve from 0.63647\n",
      "\n",
      "Epoch 00008: val_euc_dist did not improve from 0.63647\n",
      "\n",
      "Epoch 00009: val_euc_dist improved from 0.63647 to 0.60594, saving model to ../checkpoints/mlp_ego.hdf5\n",
      "\n",
      "Epoch 00010: val_euc_dist did not improve from 0.60594\n",
      "\n",
      "Epoch 00011: val_euc_dist did not improve from 0.60594\n",
      "\n",
      "Epoch 00012: val_euc_dist did not improve from 0.60594\n",
      "\n",
      "Epoch 00013: val_euc_dist improved from 0.60594 to 0.59888, saving model to ../checkpoints/mlp_ego.hdf5\n",
      "\n",
      "Epoch 00014: val_euc_dist did not improve from 0.59888\n",
      "\n",
      "Epoch 00015: val_euc_dist improved from 0.59888 to 0.59794, saving model to ../checkpoints/mlp_ego.hdf5\n",
      "\n",
      "Epoch 00016: val_euc_dist improved from 0.59794 to 0.59170, saving model to ../checkpoints/mlp_ego.hdf5\n",
      "\n",
      "Epoch 00017: val_euc_dist improved from 0.59170 to 0.58644, saving model to ../checkpoints/mlp_ego.hdf5\n",
      "\n",
      "Epoch 00018: val_euc_dist did not improve from 0.58644\n",
      "\n",
      "Epoch 00019: val_euc_dist did not improve from 0.58644\n",
      "\n",
      "Epoch 00020: val_euc_dist improved from 0.58644 to 0.57000, saving model to ../checkpoints/mlp_ego.hdf5\n",
      "\n",
      "Epoch 00021: val_euc_dist did not improve from 0.57000\n",
      "\n",
      "Epoch 00022: val_euc_dist did not improve from 0.57000\n",
      "\n",
      "Epoch 00023: val_euc_dist did not improve from 0.57000\n",
      "\n",
      "Epoch 00024: val_euc_dist did not improve from 0.57000\n",
      "\n",
      "Epoch 00025: val_euc_dist did not improve from 0.57000\n",
      "\n",
      "Epoch 00026: val_euc_dist did not improve from 0.57000\n",
      "\n",
      "Epoch 00027: val_euc_dist did not improve from 0.57000\n",
      "\n",
      "Epoch 00028: val_euc_dist did not improve from 0.57000\n",
      "\n",
      "Epoch 00029: val_euc_dist did not improve from 0.57000\n",
      "\n",
      "Epoch 00030: val_euc_dist did not improve from 0.57000\n",
      "\n",
      "Epoch 00031: val_euc_dist improved from 0.57000 to 0.55791, saving model to ../checkpoints/mlp_ego.hdf5\n",
      "\n",
      "Epoch 00032: val_euc_dist improved from 0.55791 to 0.54747, saving model to ../checkpoints/mlp_ego.hdf5\n",
      "\n",
      "Epoch 00033: val_euc_dist did not improve from 0.54747\n",
      "\n",
      "Epoch 00034: val_euc_dist did not improve from 0.54747\n",
      "\n",
      "Epoch 00035: val_euc_dist did not improve from 0.54747\n",
      "\n",
      "Epoch 00036: val_euc_dist did not improve from 0.54747\n",
      "\n",
      "Epoch 00037: val_euc_dist did not improve from 0.54747\n",
      "\n",
      "Epoch 00038: val_euc_dist did not improve from 0.54747\n",
      "\n",
      "Epoch 00039: val_euc_dist did not improve from 0.54747\n",
      "\n",
      "Epoch 00040: val_euc_dist did not improve from 0.54747\n"
     ]
    }
   ],
   "source": [
    "# checkpoint for saving the best model\n",
    "filepath=\"../checkpoints/mlp_ego.hdf5\"\n",
    "checkpoint = tf.keras.callbacks.ModelCheckpoint(filepath, monitor='val_euc_dist', \n",
    "                                                verbose=1, save_best_only=True, \n",
    "                                                save_weights_only=False,\n",
    "                                                mode='min')\n",
    "callbacks_list = [checkpoint]\n",
    "\n",
    "train_history = fc_model.fit(train_data, epochs=40,\n",
    "                             verbose=0, callbacks=callbacks_list,\n",
    "                             validation_data=val_data,\n",
    "                             steps_per_epoch=400,\n",
    "                             validation_steps=70\n",
    "                             )"
   ]
  },
  {
   "cell_type": "code",
   "execution_count": 11,
   "metadata": {},
   "outputs": [],
   "source": [
    "def plot_train_history(history, title):\n",
    "    loss = history.history['loss']\n",
    "    val_loss = history.history['val_loss']\n",
    "    epochs = range(len(loss))\n",
    "    \n",
    "    plt.figure()\n",
    "    plt.plot(epochs, loss, 'b', label='Training loss')\n",
    "    plt.plot(epochs, val_loss, 'r', label='Validation loss')\n",
    "    plt.title(title)\n",
    "    plt.legend()\n",
    "    plt.show()"
   ]
  },
  {
   "cell_type": "code",
   "execution_count": 12,
   "metadata": {},
   "outputs": [
    {
     "data": {
      "image/png": "[encoded data removed]",
      "text/plain": [
       "<Figure size 1728x1296 with 1 Axes>"
      ]
     },
     "metadata": {},
     "output_type": "display_data"
    }
   ],
   "source": [
    "plot_train_history(train_history, \"MLP train and validation loss\")"
   ]
  },
  {
   "cell_type": "code",
   "execution_count": 13,
   "metadata": {},
   "outputs": [],
   "source": [
    "# undo normalization for plotting\n",
    "def move_from_origin(l, origin):\n",
    "    x0, y0 = origin\n",
    "    return [[x + x0, y + y0] for x, y in l]\n",
    "\n",
    "def rotate_from_y(l, angle):\n",
    "    theta = -angle\n",
    "    return [(x*np.cos(theta) - y*np.sin(theta), \n",
    "                    x*np.sin(theta) + y*np.cos(theta)) for x, y in l]\n",
    "\n",
    "# loss calculation for test prediction\n",
    "def rmse_error(l1, l2):\n",
    "    loss = 0.0\n",
    "    \n",
    "    if len(np.array(l1).shape) < 2:\n",
    "        return ((l1[0] - l2[0])**2 + (l1[1] - l2[1])**2)**0.5\n",
    "    for p1, p2 in zip(l1, l2):\n",
    "        loss += ((p1[0] - p2[0])**2 + (p1[1] - p2[1])**2)**0.5\n",
    "    return (loss / float(len(l1))) "
   ]
  },
  {
   "cell_type": "code",
   "execution_count": 14,
   "metadata": {
    "scrolled": false
   },
   "outputs": [
    {
     "name": "stdout",
     "output_type": "stream",
     "text": [
      "0.25618765147305556\n",
      "0.489877858947206\n"
     ]
    }
   ],
   "source": [
    "ade_values = []\n",
    "fde_values = []\n",
    "\n",
    "for test_idx in range(TRAIN_SIZE, len(ped_dataset)):\n",
    "    test_data = np.reshape(total_ped_matrix[test_idx,:,:6,:]\n",
    "                           , (1, 84))\n",
    "    predictions = fc_model.predict(test_data).reshape(-1, 2)\n",
    "    predictions = move_from_origin(rotate_from_y(predictions, ped_dataset[test_idx][\"angle\"]),\n",
    "                                   ped_dataset[test_idx][\"origin\"])\n",
    "\n",
    "#     n_scene = ped_dataset[test_idx][\"scene_no\"]\n",
    "#     ego_poses = map_files[scene_info[str(n_scene)][\"map_name\"]].render_egoposes_on_fancy_map(\n",
    "#                     nusc, scene_tokens=[nusc.scene[n_scene]['token']], verbose=False,\n",
    "#                     render_egoposes=True, render_egoposes_range=False, \n",
    "#                     render_legend=False)\n",
    "\n",
    "#     plt.scatter(*zip(*np.array(ped_dataset[test_idx][\"translation\"])[:6,:2]), c='k', s=5, zorder=2)\n",
    "#     plt.scatter(*zip(*np.array(ped_dataset[test_idx][\"translation\"])[6:,:2]), c='b', s=5, zorder=3)\n",
    "#     plt.scatter(*zip(*predictions), c='r', s=5, zorder=4)\n",
    "#     plt.show()\n",
    "    \n",
    "    loss = rmse_error(predictions, np.array(ped_dataset[test_idx][\"translation\"])[6:,:2])\n",
    "        \n",
    "    final_loss = rmse_error(predictions[-1], \n",
    "                            np.array(ped_dataset[test_idx][\"translation\"])[-1,:2])\n",
    "\n",
    "    \n",
    "#     print(f\"Loss in m is {loss}\")\n",
    "#     print(f\"Loss of final position in m is {final_loss}\")\n",
    "    \n",
    "    ade_values.append(loss)\n",
    "    fde_values.append(final_loss)\n",
    "    \n",
    "print(np.mean(np.array(ade_values)))\n",
    "print(np.mean(np.array(fde_values)))"
   ]
  },
  {
   "cell_type": "code",
   "execution_count": null,
   "metadata": {},
   "outputs": [],
   "source": []
  }
 ],
 "metadata": {
  "kernelspec": {
   "display_name": "Python (tensorflow_cpu)",
   "language": "python",
   "name": "tensorflow_cpu"
  },
  "language_info": {
   "codemirror_mode": {
    "name": "ipython",
    "version": 3
   },
   "file_extension": ".py",
   "mimetype": "text/x-python",
   "name": "python",
   "nbconvert_exporter": "python",
   "pygments_lexer": "ipython3",
   "version": "3.7.6"
  }
 },
 "nbformat": 4,
 "nbformat_minor": 4
}
